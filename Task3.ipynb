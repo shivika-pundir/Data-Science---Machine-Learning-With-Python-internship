{
 "cells": [
  {
   "cell_type": "code",
   "execution_count": 1,
   "id": "bf109a36",
   "metadata": {},
   "outputs": [
    {
     "data": {
      "text/html": [
       "<div>\n",
       "<style scoped>\n",
       "    .dataframe tbody tr th:only-of-type {\n",
       "        vertical-align: middle;\n",
       "    }\n",
       "\n",
       "    .dataframe tbody tr th {\n",
       "        vertical-align: top;\n",
       "    }\n",
       "\n",
       "    .dataframe thead th {\n",
       "        text-align: right;\n",
       "    }\n",
       "</style>\n",
       "<table border=\"1\" class=\"dataframe\">\n",
       "  <thead>\n",
       "    <tr style=\"text-align: right;\">\n",
       "      <th></th>\n",
       "      <th>date</th>\n",
       "      <th>time</th>\n",
       "      <th>sensor</th>\n",
       "      <th>location</th>\n",
       "      <th>number</th>\n",
       "      <th>activity</th>\n",
       "      <th>position</th>\n",
       "      <th>location.1</th>\n",
       "    </tr>\n",
       "  </thead>\n",
       "  <tbody>\n",
       "    <tr>\n",
       "      <th>0</th>\n",
       "      <td>2024-01-16</td>\n",
       "      <td>10:10:30</td>\n",
       "      <td>0.0</td>\n",
       "      <td>A1</td>\n",
       "      <td>1</td>\n",
       "      <td>placed</td>\n",
       "      <td>inside</td>\n",
       "      <td>A1</td>\n",
       "    </tr>\n",
       "    <tr>\n",
       "      <th>1</th>\n",
       "      <td>2024-01-16</td>\n",
       "      <td>10:12:30</td>\n",
       "      <td>1.0</td>\n",
       "      <td>A2</td>\n",
       "      <td>1</td>\n",
       "      <td>picked</td>\n",
       "      <td>inside</td>\n",
       "      <td>A2</td>\n",
       "    </tr>\n",
       "    <tr>\n",
       "      <th>2</th>\n",
       "      <td>2024-01-16</td>\n",
       "      <td>10:28:30</td>\n",
       "      <td>1.0</td>\n",
       "      <td>A3</td>\n",
       "      <td>1</td>\n",
       "      <td>picked</td>\n",
       "      <td>Inside</td>\n",
       "      <td>A3</td>\n",
       "    </tr>\n",
       "    <tr>\n",
       "      <th>3</th>\n",
       "      <td>2024-01-16</td>\n",
       "      <td>10:38:20</td>\n",
       "      <td>0.0</td>\n",
       "      <td>A4</td>\n",
       "      <td>1</td>\n",
       "      <td>placed</td>\n",
       "      <td>Inside</td>\n",
       "      <td>A4</td>\n",
       "    </tr>\n",
       "    <tr>\n",
       "      <th>4</th>\n",
       "      <td>2024-01-16</td>\n",
       "      <td>10:45:20</td>\n",
       "      <td>1.0</td>\n",
       "      <td>A5</td>\n",
       "      <td>1</td>\n",
       "      <td>placed</td>\n",
       "      <td>inside</td>\n",
       "      <td>A5</td>\n",
       "    </tr>\n",
       "    <tr>\n",
       "      <th>...</th>\n",
       "      <td>...</td>\n",
       "      <td>...</td>\n",
       "      <td>...</td>\n",
       "      <td>...</td>\n",
       "      <td>...</td>\n",
       "      <td>...</td>\n",
       "      <td>...</td>\n",
       "      <td>...</td>\n",
       "    </tr>\n",
       "    <tr>\n",
       "      <th>170</th>\n",
       "      <td>2024-01-18</td>\n",
       "      <td>12:45:05</td>\n",
       "      <td>0.0</td>\n",
       "      <td>A8</td>\n",
       "      <td>2</td>\n",
       "      <td>placed</td>\n",
       "      <td>inside</td>\n",
       "      <td>A8</td>\n",
       "    </tr>\n",
       "    <tr>\n",
       "      <th>171</th>\n",
       "      <td>2024-01-18</td>\n",
       "      <td>12:53:10</td>\n",
       "      <td>1.0</td>\n",
       "      <td>A9</td>\n",
       "      <td>2</td>\n",
       "      <td>picked</td>\n",
       "      <td>inside</td>\n",
       "      <td>A9</td>\n",
       "    </tr>\n",
       "    <tr>\n",
       "      <th>172</th>\n",
       "      <td>2024-01-18</td>\n",
       "      <td>12:59:10</td>\n",
       "      <td>1.0</td>\n",
       "      <td>A10</td>\n",
       "      <td>2</td>\n",
       "      <td>placed</td>\n",
       "      <td>outside</td>\n",
       "      <td>A10</td>\n",
       "    </tr>\n",
       "    <tr>\n",
       "      <th>173</th>\n",
       "      <td>2024-01-18</td>\n",
       "      <td>13:10:20</td>\n",
       "      <td>1.0</td>\n",
       "      <td>A11</td>\n",
       "      <td>2</td>\n",
       "      <td>picked</td>\n",
       "      <td>Inside</td>\n",
       "      <td>A11</td>\n",
       "    </tr>\n",
       "    <tr>\n",
       "      <th>174</th>\n",
       "      <td>2024-01-18</td>\n",
       "      <td>13:18:30</td>\n",
       "      <td>0.0</td>\n",
       "      <td>A12</td>\n",
       "      <td>2</td>\n",
       "      <td>placed</td>\n",
       "      <td>inside</td>\n",
       "      <td>A12</td>\n",
       "    </tr>\n",
       "  </tbody>\n",
       "</table>\n",
       "<p>175 rows × 8 columns</p>\n",
       "</div>"
      ],
      "text/plain": [
       "          date      time  sensor location  number activity position location.1\n",
       "0   2024-01-16  10:10:30     0.0       A1       1   placed   inside         A1\n",
       "1   2024-01-16  10:12:30     1.0       A2       1   picked   inside         A2\n",
       "2   2024-01-16  10:28:30     1.0       A3       1   picked   Inside         A3\n",
       "3   2024-01-16  10:38:20     0.0       A4       1   placed   Inside         A4\n",
       "4   2024-01-16  10:45:20     1.0       A5       1   placed   inside         A5\n",
       "..         ...       ...     ...      ...     ...      ...      ...        ...\n",
       "170 2024-01-18  12:45:05     0.0       A8       2   placed   inside         A8\n",
       "171 2024-01-18  12:53:10     1.0       A9       2   picked   inside         A9\n",
       "172 2024-01-18  12:59:10     1.0      A10       2   placed  outside        A10\n",
       "173 2024-01-18  13:10:20     1.0      A11       2   picked   Inside        A11\n",
       "174 2024-01-18  13:18:30     0.0      A12       2   placed   inside        A12\n",
       "\n",
       "[175 rows x 8 columns]"
      ]
     },
     "execution_count": 1,
     "metadata": {},
     "output_type": "execute_result"
    }
   ],
   "source": [
    "import pandas as pd\n",
    "\n",
    "rawdata = pd.read_excel('rawdata.xlsx')\n",
    "rawdata\n"
   ]
  },
  {
   "cell_type": "code",
   "execution_count": 2,
   "id": "d2a2c010",
   "metadata": {},
   "outputs": [
    {
     "data": {
      "text/plain": [
       "Index(['date', 'time', 'sensor', 'location', 'number', 'activity', 'position',\n",
       "       'location.1'],\n",
       "      dtype='object')"
      ]
     },
     "execution_count": 2,
     "metadata": {},
     "output_type": "execute_result"
    }
   ],
   "source": [
    "rawdata.columns\n"
   ]
  },
  {
   "cell_type": "code",
   "execution_count": 3,
   "id": "4464a97e",
   "metadata": {},
   "outputs": [
    {
     "name": "stdout",
     "output_type": "stream",
     "text": [
      "<class 'pandas.core.frame.DataFrame'>\n",
      "RangeIndex: 175 entries, 0 to 174\n",
      "Data columns (total 8 columns):\n",
      " #   Column      Non-Null Count  Dtype         \n",
      "---  ------      --------------  -----         \n",
      " 0   date        175 non-null    datetime64[ns]\n",
      " 1   time        175 non-null    object        \n",
      " 2   sensor      174 non-null    float64       \n",
      " 3   location    175 non-null    object        \n",
      " 4   number      175 non-null    int64         \n",
      " 5   activity    175 non-null    object        \n",
      " 6   position    175 non-null    object        \n",
      " 7   location.1  175 non-null    object        \n",
      "dtypes: datetime64[ns](1), float64(1), int64(1), object(5)\n",
      "memory usage: 11.1+ KB\n"
     ]
    }
   ],
   "source": [
    "rawdata.info()"
   ]
  },
  {
   "cell_type": "code",
   "execution_count": 4,
   "id": "756fd76e",
   "metadata": {},
   "outputs": [
    {
     "name": "stdout",
     "output_type": "stream",
     "text": [
      "location     A1  A10  A11  A12  A13  A14  A15  A16  A17  A18  ...  A30  A32  \\\n",
      "date                                                          ...             \n",
      "2024-01-16  3.0  3.0  3.0  3.0  3.0  3.0  3.0  3.0  3.0  3.0  ...  0.0  0.0   \n",
      "2024-01-17  1.0  2.0  2.0  1.0  1.0  2.0  2.0  0.0  0.0  0.0  ...  0.0  0.0   \n",
      "2024-01-18  7.0  3.0  1.0  3.0  1.0  1.0  1.0  2.0  3.0  1.0  ...  1.0  1.0   \n",
      "\n",
      "location    A33  A34   A4   A5   A6   A7   A8   A9  \n",
      "date                                                \n",
      "2024-01-16  0.0  0.0  2.0  3.0  3.0  3.0  3.0  3.0  \n",
      "2024-01-17  0.0  0.0  1.0  1.0  2.0  2.0  2.0  2.0  \n",
      "2024-01-18  1.0  1.0  3.0  3.0  3.0  2.0  3.0  3.0  \n",
      "\n",
      "[3 rows x 33 columns]\n"
     ]
    }
   ],
   "source": [
    "import pandas as pd\n",
    "\n",
    "# Assuming 'rawdata' is the DataFrame containing the raw data\n",
    "# You can read your raw data using: rawdata = pd.read_csv('your_raw_data.csv')\n",
    "\n",
    "# Filter only 'inside' and 'outside' rows\n",
    "filtered_data = rawdata[rawdata['position'].isin(['inside', 'outside'])]\n",
    "\n",
    "# Group by date and location, and calculate total duration\n",
    "result = filtered_data.groupby(['date', 'location']).agg(\n",
    "    total_duration=pd.NamedAgg(column='number', aggfunc='sum')\n",
    ").reset_index()\n",
    "\n",
    "# Pivot the table to get separate columns for inside and outside\n",
    "result_pivot = result.pivot(index='date', columns='location', values='total_duration')\n",
    "\n",
    "# Fill NaN values with 0\n",
    "result_pivot = result_pivot.fillna(0)\n",
    "\n",
    "# Rename columns\n",
    "result_pivot = result_pivot.rename(columns={\n",
    "    'inside': 'Datewise Total Duration Inside',\n",
    "    'outside': 'Datewise Total Duration Outside'\n",
    "})\n",
    "\n",
    "# Display the result\n",
    "print(result_pivot)\n"
   ]
  },
  {
   "cell_type": "code",
   "execution_count": 5,
   "id": "e9fed0f9",
   "metadata": {},
   "outputs": [
    {
     "name": "stdout",
     "output_type": "stream",
     "text": [
      "position    Inside_Duration  Outside_Duration\n",
      "date                                         \n",
      "2024-01-16             78.0               0.0\n",
      "2024-01-17             27.0               0.0\n",
      "2024-01-18             73.0               5.0\n"
     ]
    }
   ],
   "source": [
    "import pandas as pd\n",
    "\n",
    "# Assuming 'rawdata' is the DataFrame containing the raw data\n",
    "# You can read your raw data using: rawdata = pd.read_csv('your_raw_data.csv')\n",
    "\n",
    "# Filter only 'inside' and 'outside' rows based on the 'position' column\n",
    "filtered_data = rawdata[rawdata['position'].isin(['inside', 'outside'])]\n",
    "\n",
    "# Group by date and location, and calculate total duration\n",
    "result = filtered_data.groupby(['date', 'position']).agg(\n",
    "    total_duration=pd.NamedAgg(column='number', aggfunc='sum')\n",
    ").reset_index()\n",
    "\n",
    "# Pivot the table to get separate columns for inside and outside\n",
    "result_pivot = result.pivot(index='date', columns='position', values='total_duration')\n",
    "\n",
    "# Fill NaN values with 0\n",
    "result_pivot = result_pivot.fillna(0)\n",
    "\n",
    "# Rename columns\n",
    "result_pivot = result_pivot.rename(columns={\n",
    "    'inside': 'Inside_Duration',\n",
    "    'outside': 'Outside_Duration'\n",
    "})\n",
    "\n",
    "# Display the result\n",
    "print(result_pivot)\n"
   ]
  },
  {
   "cell_type": "code",
   "execution_count": 6,
   "id": "cd4ea7d0",
   "metadata": {},
   "outputs": [
    {
     "name": "stdout",
     "output_type": "stream",
     "text": [
      "activity    Pick_Activities  Place_Activities\n",
      "date                                         \n",
      "2024-01-16               40                40\n",
      "2024-01-17               14                13\n",
      "2024-01-18               47                50\n"
     ]
    }
   ],
   "source": [
    "import pandas as pd\n",
    "\n",
    "# Assuming 'rawdata' is the DataFrame containing the raw data\n",
    "# You can read your raw data using: rawdata = pd.read_csv('your_raw_data.csv')\n",
    "\n",
    "# Filter only 'inside' and 'outside' rows based on the 'position' column\n",
    "filtered_data = rawdata[rawdata['activity'].isin(['picked', 'placed'])]\n",
    "\n",
    "# Group by date and location, and calculate total duration\n",
    "result2 = filtered_data.groupby(['date', 'activity']).agg(\n",
    "    total_duration=pd.NamedAgg(column='number', aggfunc='sum')\n",
    ").reset_index()\n",
    "\n",
    "# Pivot the table to get separate columns for inside and outside\n",
    "result2_pivot = result2.pivot(index='date', columns='activity', values='total_duration')\n",
    "\n",
    "# Fill NaN values with 0\n",
    "result2_pivot = result2_pivot.fillna(0)\n",
    "\n",
    "# Rename columns\n",
    "result2_pivot = result2_pivot.rename(columns={\n",
    "    'picked': 'Pick_Activities',\n",
    "    'placed': 'Place_Activities',\n",
    "})\n",
    "\n",
    "# Display the result\n",
    "print(result2_pivot)\n"
   ]
  },
  {
   "cell_type": "code",
   "execution_count": 7,
   "id": "ddc40919",
   "metadata": {},
   "outputs": [
    {
     "name": "stdout",
     "output_type": "stream",
     "text": [
      "            Inside_Duration  Outside_Duration  Pick_Activities  \\\n",
      "date                                                             \n",
      "2024-01-16             78.0               0.0               40   \n",
      "2024-01-17             27.0               0.0               14   \n",
      "2024-01-18             73.0               5.0               47   \n",
      "\n",
      "            Place_Activities  \n",
      "date                          \n",
      "2024-01-16                40  \n",
      "2024-01-17                13  \n",
      "2024-01-18                50  \n"
     ]
    }
   ],
   "source": [
    "# Merge duration data with the original activities data\n",
    "final_result = pd.merge( result_pivot,result2_pivot, on='date', how='left')\n",
    "\n",
    "# Rename columns\n",
    "final_result = final_result.rename(columns={\n",
    "    'picked': 'Pick_Activities',\n",
    "    'placed': 'Place_Activities',\n",
    "    'inside': 'Inside_Duration',\n",
    "    'outside': 'Outside_Duration'\n",
    "})\n",
    "\n",
    "# Display the result\n",
    "print(final_result)"
   ]
  },
  {
   "cell_type": "code",
   "execution_count": 8,
   "id": "2b4284c2",
   "metadata": {},
   "outputs": [
    {
     "name": "stderr",
     "output_type": "stream",
     "text": [
      "2024-02-11 17:33:13.304 \n",
      "  \u001b[33m\u001b[1mWarning:\u001b[0m to view this Streamlit app on a browser, run it with the following\n",
      "  command:\n",
      "\n",
      "    streamlit run C:\\python\\Lib\\site-packages\\ipykernel_launcher.py [ARGUMENTS]\n"
     ]
    }
   ],
   "source": [
    "import streamlit as st\n",
    "import pandas as pd\n",
    "\n",
    "# Sample data for testing\n",
    "rawdata = pd.read_excel('rawdata.xlsx')\n",
    "\n",
    "# Your data processing code here to generate result_pivot\n",
    "\n",
    "# Streamlit app\n",
    "st.title('Datewise Number of Picking and Placing Activities')\n",
    "st.write(result2_pivot)\n"
   ]
  },
  {
   "cell_type": "code",
   "execution_count": null,
   "id": "73942540",
   "metadata": {},
   "outputs": [],
   "source": [
    "import streamlit as st\n",
    "import pandas as pd\n",
    "\n",
    "# Sample data for testing\n",
    "rawdata = pd.read_excel('rawdata.xlsx')\n",
    "\n",
    "# Your data processing code here to generate result_pivot\n",
    "\n",
    "# Streamlit app\n",
    "st.title('Datewise Number of Picking and Placing Activities')\n",
    "st.write(result2_pivot)"
   ]
  }
 ],
 "metadata": {
  "kernelspec": {
   "display_name": "Python 3 (ipykernel)",
   "language": "python",
   "name": "python3"
  },
  "language_info": {
   "codemirror_mode": {
    "name": "ipython",
    "version": 3
   },
   "file_extension": ".py",
   "mimetype": "text/x-python",
   "name": "python",
   "nbconvert_exporter": "python",
   "pygments_lexer": "ipython3",
   "version": "3.11.1"
  }
 },
 "nbformat": 4,
 "nbformat_minor": 5
}
